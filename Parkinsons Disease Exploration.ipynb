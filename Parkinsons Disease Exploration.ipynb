{
 "cells": [
  {
   "cell_type": "code",
   "execution_count": 1,
   "id": "25e1b7ab",
   "metadata": {},
   "outputs": [],
   "source": [
    "# import libraries\n",
    "\n",
    "import pandas as pd\n",
    "import seaborn as sns\n",
    "import numpy as np\n",
    "import matplotlib as plt\n",
    "\n",
    "%matplotlib inline\n",
    "\n",
    "from sklearn.model_selection import train_test_split\n",
    "from sklearn import svm\n",
    "from sklearn.metrics import accuracy_score"
   ]
  },
  {
   "cell_type": "code",
   "execution_count": 2,
   "id": "427f955b",
   "metadata": {},
   "outputs": [],
   "source": [
    "park_df = pd.read_csv(\"C:/Users/Dell/Desktop/Kriti Docs/ML Project (VA)/Datasets/parkinsons.csv\")"
   ]
  },
  {
   "cell_type": "code",
   "execution_count": 3,
   "id": "b758b50a",
   "metadata": {},
   "outputs": [],
   "source": [
    "park_df.info()"
   ]
  },
  {
   "cell_type": "code",
   "execution_count": 4,
   "id": "2c8d96b7",
   "metadata": {},
   "outputs": [],
   "source": [
    "park_df.head()"
   ]
  },
  {
   "cell_type": "code",
   "execution_count": 5,
   "id": "aecb7896",
   "metadata": {},
   "outputs": [],
   "source": [
    "park_df.tail(15)"
   ]
  },
  {
   "cell_type": "code",
   "execution_count": 6,
   "id": "c03638b5",
   "metadata": {},
   "outputs": [],
   "source": [
    "# we observe that status gives us the outcome\n",
    "# we can not calc mean using groupby as we have name col too\n",
    "park_df['status'].value_counts()"
   ]
  },
  {
   "cell_type": "code",
   "execution_count": 7,
   "id": "9c370bd0",
   "metadata": {},
   "outputs": [],
   "source": [
    "# plotting\n",
    "sns.pairplot(park_df, hue='status')"
   ]
  },
  {
   "cell_type": "code",
   "execution_count": 8,
   "id": "2e1d36b9",
   "metadata": {},
   "outputs": [],
   "source": [
    "sns.kdeplot(x=park_df['MDVP:Fo(Hz)'], y = park_df['status'], fill=True)"
   ]
  },
  {
   "cell_type": "code",
   "execution_count": 9,
   "id": "3a338ac4",
   "metadata": {},
   "outputs": [],
   "source": [
    "# correlation\n",
    "park_df = park_df.drop(columns = 'name', axis =1)\n",
    "corr = park_df.corr()\n",
    "corr"
   ]
  },
  {
   "cell_type": "code",
   "execution_count": 10,
   "id": "6f34850a",
   "metadata": {},
   "outputs": [],
   "source": [
    "sns.heatmap(corr,)"
   ]
  },
  {
   "cell_type": "code",
   "execution_count": 11,
   "id": "8423990c",
   "metadata": {},
   "outputs": [],
   "source": [
    "X = park_df.drop(columns = 'status', axis=1)\n",
    "Y = park_df['status']"
   ]
  },
  {
   "cell_type": "code",
   "execution_count": 12,
   "id": "7b4f8e56",
   "metadata": {},
   "outputs": [],
   "source": [
    "X.head()"
   ]
  },
  {
   "cell_type": "code",
   "execution_count": 13,
   "id": "05f05af4",
   "metadata": {},
   "outputs": [],
   "source": [
    "# splitting\n",
    "X_train, X_test, Y_train, Y_test = train_test_split(X, Y, test_size=0.2, stratify=Y, random_state=2) "
   ]
  },
  {
   "cell_type": "code",
   "execution_count": 14,
   "id": "42c099cd",
   "metadata": {},
   "outputs": [],
   "source": [
    "X_train.shape"
   ]
  },
  {
   "cell_type": "code",
   "execution_count": 15,
   "id": "ccc7030d",
   "metadata": {},
   "outputs": [],
   "source": [
    "Y_test.count()"
   ]
  },
  {
   "cell_type": "code",
   "execution_count": 16,
   "id": "8c3446c0",
   "metadata": {},
   "outputs": [],
   "source": [
    "print(X.shape, X_train.shape, X_test.shape)"
   ]
  },
  {
   "cell_type": "code",
   "execution_count": 17,
   "id": "0aed26d7",
   "metadata": {},
   "outputs": [],
   "source": [
    "classifier = svm.SVC(kernel='linear')"
   ]
  },
  {
   "cell_type": "code",
   "execution_count": 18,
   "id": "ae1660f5",
   "metadata": {},
   "outputs": [],
   "source": [
    "classifier.fit(X_train, Y_train)"
   ]
  },
  {
   "cell_type": "code",
   "execution_count": 19,
   "id": "c51e9611",
   "metadata": {},
   "outputs": [],
   "source": [
    "X_train_predictions = classifier.predict(X_train)"
   ]
  },
  {
   "cell_type": "code",
   "execution_count": 20,
   "id": "aec491e4",
   "metadata": {},
   "outputs": [],
   "source": [
    "train_accurracy = accuracy_score(X_train_predictions, Y_train)"
   ]
  },
  {
   "cell_type": "code",
   "execution_count": 21,
   "id": "aa41d135",
   "metadata": {},
   "outputs": [],
   "source": [
    "train_accurracy"
   ]
  },
  {
   "cell_type": "code",
   "execution_count": 22,
   "id": "a0e5714e",
   "metadata": {},
   "outputs": [],
   "source": [
    "X_test_predictions = classifier.predict(X_test)\n",
    "test_accuracy = accuracy_score(X_test_predictions, Y_test)"
   ]
  },
  {
   "cell_type": "code",
   "execution_count": 23,
   "id": "b4a2411f",
   "metadata": {},
   "outputs": [],
   "source": [
    "test_accuracy"
   ]
  },
  {
   "cell_type": "code",
   "execution_count": 24,
   "id": "27c2cc28",
   "metadata": {},
   "outputs": [],
   "source": [
    "input_data = (3.046, -1755.829, 68.623, 0.742, 0.00005, 0.00364, 0.432, 0.01092, 0.05517, -0.542, 0.02471, 0.03572, 0.05767, 0.07413, 0.0316, 17.28, 0.665318, 0.719467, -300.949079, 0.35787, 3.10901, 0.377429)\n",
    "\n",
    "input_data_as_numpy_array = np.asarray(input_data)\n",
    "print(input_data_as_numpy_array)\n",
    "\n",
    "input_data_reshaped = input_data_as_numpy_array.reshape(1, -1)\n",
    "print(input_data_reshaped)\n",
    "\n",
    "predictions = classifier.predict(input_data_reshaped)\n",
    "print(predictions)"
   ]
  },
  {
   "cell_type": "code",
   "execution_count": 25,
   "id": "f7d871b2",
   "metadata": {},
   "outputs": [],
   "source": [
    "if(predictions[0] == 0):\n",
    "    print('Person is not Parkinson affected')\n",
    "else:\n",
    "    print('Person is Parkinson affected')"
   ]
  },
  {
   "cell_type": "code",
   "execution_count": 26,
   "id": "3c575694",
   "metadata": {},
   "outputs": [],
   "source": [
    "for column in X.columns:\n",
    "    print(column)"
   ]
  },
  {
   "cell_type": "code",
   "execution_count": 27,
   "id": "6d7b96e5",
   "metadata": {},
   "outputs": [],
   "source": [
    "import pickle"
   ]
  },
  {
   "cell_type": "code",
   "execution_count": 28,
   "id": "22f060b1",
   "metadata": {},
   "outputs": [],
   "source": [
    "fileName = \"C:/Users/Dell/Desktop/Kriti Docs/ML Project (VA)/Saved Models/Parkinsons.sav\""
   ]
  },
  {
   "cell_type": "code",
   "execution_count": 29,
   "id": "ccdf0196",
   "metadata": {},
   "outputs": [],
   "source": [
    "pickle.dump(classifier, open(fileName, 'wb'))"
   ]
  },
  {
   "cell_type": "code",
   "execution_count": 30,
   "id": "843dbeeb",
   "metadata": {},
   "outputs": [],
   "source": [
    "loaded_model = pickle.load(open(fileName, 'rb'))"
   ]
  },
  {
   "cell_type": "code",
   "execution_count": 31,
   "id": "69e08c3c",
   "metadata": {},
   "outputs": [],
   "source": [
    "input_data = (3, 9, 6.6, 0.7, 0.5, 0.004, 0.4, 0.0102, 0.055, -0.52, 0.0271, 0.3572, 0.057, 0.013, 0.06, 17.28, 0.68, 0.7167, -0.9499, 0.357, 3.01, 0.374)\n",
    "\n",
    "input_data_as_numpy_array = np.asarray(input_data)\n",
    "print(input_data_as_numpy_array)\n",
    "\n",
    "input_data_reshaped = input_data_as_numpy_array.reshape(1, -1)\n",
    "print(input_data_reshaped)\n",
    "\n",
    "predictions = classifier.predict(input_data_reshaped)\n",
    "print(predictions)\n",
    "\n",
    "if(predictions[0] == 0):\n",
    "    print('Person is not Parkinson affected')\n",
    "else:\n",
    "    print('Person is Parkinson affected')"
   ]
  },
  {
   "cell_type": "code",
   "execution_count": null,
   "id": "ef7acb35",
   "metadata": {},
   "outputs": [],
   "source": []
  }
 ],
 "metadata": {
  "kernelspec": {
   "display_name": "Python 3 (ipykernel)",
   "language": "python",
   "name": "python3"
  },
  "language_info": {
   "codemirror_mode": {
    "name": "ipython",
    "version": 3
   },
   "file_extension": ".py",
   "mimetype": "text/x-python",
   "name": "python",
   "nbconvert_exporter": "python",
   "pygments_lexer": "ipython3",
   "version": "3.11.3"
  }
 },
 "nbformat": 4,
 "nbformat_minor": 5
}
